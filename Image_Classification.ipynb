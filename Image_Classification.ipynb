{
  "nbformat": 4,
  "nbformat_minor": 0,
  "metadata": {
    "colab": {
      "provenance": [],
      "authorship_tag": "ABX9TyMRQwuuis1uX68TEfB3GzJ3"
    },
    "kernelspec": {
      "name": "python3",
      "display_name": "Python 3"
    },
    "language_info": {
      "name": "python"
    }
  },
  "cells": [
    {
      "cell_type": "code",
      "execution_count": 2,
      "metadata": {
        "id": "SeKpJlkBhTsg"
      },
      "outputs": [],
      "source": [
        "# We have to import the necessary libraries to make image classification work properly\n",
        "import tensorflow as tf\n",
        "import numpy as np\n",
        "import matplotlib.pyplot as pl"
      ]
    },
    {
      "cell_type": "code",
      "source": [
        "# Here we store the fashion mnist data set from tensorflow\n",
        "clothing_fashion_mnist = tf.keras.datasets.fashion_mnist"
      ],
      "metadata": {
        "id": "iSySg48ZhrgT"
      },
      "execution_count": 3,
      "outputs": []
    },
    {
      "cell_type": "code",
      "source": [],
      "metadata": {
        "id": "RoNkLzOuiVCu"
      },
      "execution_count": null,
      "outputs": []
    }
  ]
}